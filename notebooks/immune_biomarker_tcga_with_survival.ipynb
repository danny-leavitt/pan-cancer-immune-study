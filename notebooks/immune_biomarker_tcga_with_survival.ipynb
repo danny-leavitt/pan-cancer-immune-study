{
 "cells": [
  {
   "cell_type": "markdown",
   "id": "3b1c28a6",
   "metadata": {},
   "source": [
    "# 🧬 Pan-Cancer Immune Biomarker Discovery (with Real Survival Data)\n",
    "\n",
    "This notebook integrates TCGA expression, immune subtypes, and real clinical survival metadata from cBioPortal."
   ]
  },
  {
   "cell_type": "code",
   "execution_count": null,
   "id": "20762c89",
   "metadata": {},
   "outputs": [
    {
     "name": "stdout",
     "output_type": "stream",
     "text": [
      "\n",
      "\u001b[1m[\u001b[0m\u001b[34;49mnotice\u001b[0m\u001b[1;39;49m]\u001b[0m\u001b[39;49m A new release of pip is available: \u001b[0m\u001b[31;49m24.0\u001b[0m\u001b[39;49m -> \u001b[0m\u001b[32;49m25.1.1\u001b[0m\n",
      "\u001b[1m[\u001b[0m\u001b[34;49mnotice\u001b[0m\u001b[1;39;49m]\u001b[0m\u001b[39;49m To update, run: \u001b[0m\u001b[32;49mpip install --upgrade pip\u001b[0m\n"
     ]
    }
   ],
   "source": [
    "!pip install -q bravado pandas seaborn matplotlib lifelines scikit-learn gdown"
   ]
  },
  {
   "cell_type": "markdown",
   "id": "e4a1ec0c",
   "metadata": {},
   "source": [
    "## 🔌 Connect to cBioPortal API"
   ]
  },
  {
   "cell_type": "code",
   "execution_count": 5,
   "id": "dba1517c",
   "metadata": {},
   "outputs": [],
   "source": [
    "from bravado.client import SwaggerClient\n",
    "cbioportal = SwaggerClient.from_url('https://www.cbioportal.org/api/v3/api-docs',\n",
    "                                    config={\"validate_requests\":False,\n",
    "                                           \"validate_responses\":False,\n",
    "                                           \"validate_swagger_spec\": False})\n",
    "\n",
    "# Add lower case attributes for easier access\n",
    "for attr in dir(cbioportal):\n",
    "    cbioportal.__setattr__(attr.replace(' ', '_').lower(), cbioportal.__getattr__(attr))"
   ]
  },
  {
   "cell_type": "markdown",
   "id": "62ecc824",
   "metadata": {},
   "source": [
    "## 📦 Get TCGA BRCA Sample List"
   ]
  },
  {
   "cell_type": "code",
   "execution_count": 7,
   "id": "9d2a06cd",
   "metadata": {},
   "outputs": [
    {
     "ename": "TypeError",
     "evalue": "'NoneType' object is not iterable",
     "output_type": "error",
     "traceback": [
      "\u001b[31m---------------------------------------------------------------------------\u001b[39m",
      "\u001b[31mTypeError\u001b[39m                                 Traceback (most recent call last)",
      "\u001b[36mCell\u001b[39m\u001b[36m \u001b[39m\u001b[32mIn[7]\u001b[39m\u001b[32m, line 3\u001b[39m\n\u001b[32m      1\u001b[39m study_id = \u001b[33m'\u001b[39m\u001b[33mbrca_tcga\u001b[39m\u001b[33m'\u001b[39m\n\u001b[32m      2\u001b[39m case_list = cbioportal.samples.getAllSamplesInStudyUsingGET(studyId=study_id).result()\n\u001b[32m----> \u001b[39m\u001b[32m3\u001b[39m sample_ids = \u001b[43m[\u001b[49m\u001b[43mcase\u001b[49m\u001b[43m[\u001b[49m\u001b[33;43m'\u001b[39;49m\u001b[33;43msampleId\u001b[39;49m\u001b[33;43m'\u001b[39;49m\u001b[43m]\u001b[49m\u001b[43m \u001b[49m\u001b[38;5;28;43;01mfor\u001b[39;49;00m\u001b[43m \u001b[49m\u001b[43mcase\u001b[49m\u001b[43m \u001b[49m\u001b[38;5;129;43;01min\u001b[39;49;00m\u001b[43m \u001b[49m\u001b[43mcase_list\u001b[49m\u001b[43m]\u001b[49m\n\u001b[32m      4\u001b[39m \u001b[38;5;28mprint\u001b[39m(\u001b[33mf\u001b[39m\u001b[33m\"\u001b[39m\u001b[33mLoaded \u001b[39m\u001b[38;5;132;01m{\u001b[39;00m\u001b[38;5;28mlen\u001b[39m(sample_ids)\u001b[38;5;132;01m}\u001b[39;00m\u001b[33m samples\u001b[39m\u001b[33m\"\u001b[39m)\n",
      "\u001b[31mTypeError\u001b[39m: 'NoneType' object is not iterable"
     ]
    }
   ],
   "source": [
    "study_id = 'brca_tcga'\n",
    "case_list = cbioportal.samples.getAllSamplesInStudyUsingGET(studyId=study_id).result()\n",
    "sample_ids = [case['sampleId'] for case in case_list]\n",
    "print(f\"Loaded {len(sample_ids)} samples\")"
   ]
  },
  {
   "cell_type": "markdown",
   "id": "bd54967f",
   "metadata": {},
   "source": [
    "## 🧬 Download RNA-seq Gene Expression"
   ]
  },
  {
   "cell_type": "code",
   "execution_count": null,
   "id": "375ea4ae",
   "metadata": {},
   "outputs": [],
   "source": [
    "genes = ['CD8A', 'PDCD1', 'CTLA4']\n",
    "profile_id = 'brca_tcga_rna_seq_v2_mrna'\n",
    "expr_data = cbioportal.molecular_data.getMolecularDataInMolecularProfileUsingPOST(\n",
    "    molecularProfileId=profile_id,\n",
    "    sampleIds=sample_ids,\n",
    "    entrezGeneIds=[],\n",
    "    geneIds=genes\n",
    ").result()\n",
    "\n",
    "import pandas as pd\n",
    "expr_df = pd.DataFrame(expr_data).pivot(index='sampleId', columns='geneId', values='value').dropna()"
   ]
  },
  {
   "cell_type": "markdown",
   "id": "2a9791e8",
   "metadata": {},
   "source": [
    "## 🧬 Merge Immune Subtypes"
   ]
  },
  {
   "cell_type": "code",
   "execution_count": null,
   "id": "4d737b3b",
   "metadata": {},
   "outputs": [],
   "source": [
    "import gdown\n",
    "url = 'https://drive.google.com/uc?id=1T9nEBYf_oAAdMi2LT3rJDnxlT2e7owHw'\n",
    "gdown.download(url, 'immune_subtypes.csv', quiet=False)\n",
    "\n",
    "subtypes = pd.read_csv('immune_subtypes.csv')\n",
    "expr_df = expr_df.join(subtypes.set_index('SampleID'), on='sampleId')\n",
    "expr_df.dropna(subset=['ImmuneSubtype'], inplace=True)"
   ]
  },
  {
   "cell_type": "markdown",
   "id": "dc61ae18",
   "metadata": {},
   "source": [
    "## 🩺 Fetch Real Clinical Survival Metadata"
   ]
  },
  {
   "cell_type": "code",
   "execution_count": null,
   "id": "08426b39",
   "metadata": {},
   "outputs": [],
   "source": [
    "clinical_data = cbioportal.clinical_data.getAllClinicalDataInStudyUsingGET(studyId=study_id).result()\n",
    "clinical_df = pd.DataFrame(clinical_data)\n",
    "clinical_df = clinical_df.set_index('patientId')\n",
    "clinical_df = clinical_df[['OS_MONTHS', 'OS_STATUS']].rename(columns={\n",
    "    'OS_MONTHS': 'OS_Time',\n",
    "    'OS_STATUS': 'OS_Status'\n",
    "})\n",
    "\n",
    "# Format status to 1/0\n",
    "clinical_df['OS_Status'] = clinical_df['OS_Status'].apply(lambda x: 1 if str(x).strip().upper().startswith('DECEASED') else 0)\n",
    "\n",
    "# Map patient ID from sample ID (remove '_tumor' or use substring)\n",
    "expr_df['patientId'] = expr_df.index.str.replace('-Tumor', '', regex=False).str.slice(0, 12)\n",
    "expr_df = expr_df.join(clinical_df, on='patientId')"
   ]
  },
  {
   "cell_type": "markdown",
   "id": "adbc3e15",
   "metadata": {},
   "source": [
    "## 🧪 Survival Analysis by CD8A Expression"
   ]
  },
  {
   "cell_type": "code",
   "execution_count": null,
   "id": "679ec5c5",
   "metadata": {},
   "outputs": [],
   "source": [
    "from lifelines import KaplanMeierFitter\n",
    "import matplotlib.pyplot as plt\n",
    "\n",
    "merged = expr_df.dropna(subset=['OS_Time', 'OS_Status'])\n",
    "median_cd8 = merged['CD8A'].median()\n",
    "high = merged[merged['CD8A'] > median_cd8]\n",
    "low = merged[merged['CD8A'] <= median_cd8]\n",
    "\n",
    "kmf = KaplanMeierFitter()\n",
    "kmf.fit(high['OS_Time'], high['OS_Status'], label='High CD8A')\n",
    "ax = kmf.plot()\n",
    "kmf.fit(low['OS_Time'], low['OS_Status'], label='Low CD8A')\n",
    "kmf.plot(ax=ax)\n",
    "plt.title(\"Survival by CD8A Expression\")\n",
    "plt.show()"
   ]
  }
 ],
 "metadata": {
  "kernelspec": {
   "display_name": "Python 3",
   "name": "python3"
  },
  "language_info": {
   "codemirror_mode": {
    "name": "ipython",
    "version": 3
   },
   "file_extension": ".py",
   "mimetype": "text/x-python",
   "name": "python",
   "nbconvert_exporter": "python",
   "pygments_lexer": "ipython3",
   "version": "3.12.4"
  }
 },
 "nbformat": 4,
 "nbformat_minor": 5
}
